{
 "cells": [
  {
   "cell_type": "code",
   "execution_count": 95,
   "id": "c02efd25",
   "metadata": {},
   "outputs": [],
   "source": [
    "response = [{\n",
    "    'InstanceInformationList': [\n",
    "        {\n",
    "            'InstanceId': 'abcde',\n",
    "            'PingStatus': 'Online',\n",
    "            'LastPingDateTime': '2015-1-1',\n",
    "            'AgentVersion': 'string',\n",
    "            'IsLatestVersion': True,\n",
    "            'PlatformType': 'Windows',\n",
    "            'PlatformName': 'string',\n",
    "            'PlatformVersion': 'string',\n",
    "            'ActivationId': 'string',\n",
    "            'IamRole': 'string',\n",
    "            'RegistrationDate': '2015-1-1',\n",
    "            'ResourceType': 'EC2Instance',\n",
    "            'Name': 'string',\n",
    "            'IPAddress': 'string',\n",
    "            'ComputerName': 'string',\n",
    "            'AssociationStatus': 'string',\n",
    "            'LastAssociationExecutionDate': '2015-1-1',\n",
    "            'LastSuccessfulAssociationExecutionDate': '2015-1-1',\n",
    "            'AssociationOverview': {\n",
    "                'DetailedStatus': 'string',\n",
    "                'InstanceAssociationStatusAggregatedCount': {\n",
    "                    'string': 123\n",
    "                }\n",
    "            },\n",
    "            'SourceId': 'string',\n",
    "            'SourceType': 'AWS::EC2::Instance'\n",
    "        },\n",
    "        {\n",
    "            'InstanceId': 'abcde',\n",
    "            'PingStatus': 'Online',\n",
    "            'LastPingDateTime': '2015-1-1',\n",
    "            'AgentVersion': 'string',\n",
    "            'IsLatestVersion': True,\n",
    "            'PlatformType': 'Windows',\n",
    "            'PlatformName': 'string',\n",
    "            'PlatformVersion': 'string',\n",
    "            'ActivationId': 'string',\n",
    "            'IamRole': 'string',\n",
    "            'RegistrationDate': '2015-1-1',\n",
    "            'ResourceType': 'EC2Instance',\n",
    "            'Name': 'string',\n",
    "            'IPAddress': 'string',\n",
    "            'ComputerName': 'string',\n",
    "            'AssociationStatus': 'string',\n",
    "            'LastAssociationExecutionDate': '2015-1-1',\n",
    "            'LastSuccessfulAssociationExecutionDate': '2015-1-1',\n",
    "            'AssociationOverview': {\n",
    "                'DetailedStatus': 'string',\n",
    "                'InstanceAssociationStatusAggregatedCount': {\n",
    "                    'string': 123\n",
    "                }\n",
    "            },\n",
    "            'SourceId': 'string',\n",
    "            'SourceType': 'AWS::EC2::Instance'\n",
    "        }\n",
    "    ],\n",
    "}]"
   ]
  },
  {
   "cell_type": "code",
   "execution_count": 101,
   "id": "6b33c7fd",
   "metadata": {
    "scrolled": true
   },
   "outputs": [
    {
     "data": {
      "text/plain": [
       "[{'InstanceInformationList': [{'InstanceId': 'abcde',\n",
       "    'PingStatus': 'Online',\n",
       "    'LastPingDateTime': '2015-1-1',\n",
       "    'AgentVersion': 'string',\n",
       "    'IsLatestVersion': True,\n",
       "    'PlatformType': 'Windows',\n",
       "    'PlatformName': 'string',\n",
       "    'PlatformVersion': 'string',\n",
       "    'ActivationId': 'string',\n",
       "    'IamRole': 'string',\n",
       "    'RegistrationDate': '2015-1-1',\n",
       "    'ResourceType': 'EC2Instance',\n",
       "    'Name': 'string',\n",
       "    'IPAddress': 'string',\n",
       "    'ComputerName': 'string',\n",
       "    'AssociationStatus': 'string',\n",
       "    'LastAssociationExecutionDate': '2015-1-1',\n",
       "    'LastSuccessfulAssociationExecutionDate': '2015-1-1',\n",
       "    'AssociationOverview': {'DetailedStatus': 'string',\n",
       "     'InstanceAssociationStatusAggregatedCount': {'string': 123}},\n",
       "    'SourceId': 'string',\n",
       "    'SourceType': 'AWS::EC2::Instance'}]},\n",
       " {'InstanceInformationList': [{'InstanceId': 'abcde',\n",
       "    'PingStatus': 'Online',\n",
       "    'LastPingDateTime': '2015-1-1',\n",
       "    'AgentVersion': 'string',\n",
       "    'IsLatestVersion': True,\n",
       "    'PlatformType': 'Windows',\n",
       "    'PlatformName': 'string',\n",
       "    'PlatformVersion': 'string',\n",
       "    'ActivationId': 'string',\n",
       "    'IamRole': 'string',\n",
       "    'RegistrationDate': '2015-1-1',\n",
       "    'ResourceType': 'EC2Instance',\n",
       "    'Name': 'string',\n",
       "    'IPAddress': 'string',\n",
       "    'ComputerName': 'string',\n",
       "    'AssociationStatus': 'string',\n",
       "    'LastAssociationExecutionDate': '2015-1-1',\n",
       "    'LastSuccessfulAssociationExecutionDate': '2015-1-1',\n",
       "    'AssociationOverview': {'DetailedStatus': 'string',\n",
       "     'InstanceAssociationStatusAggregatedCount': {'string': 123}},\n",
       "    'SourceId': 'string',\n",
       "    'SourceType': 'AWS::EC2::Instance'}]}]"
      ]
     },
     "metadata": {},
     "output_type": "display_data"
    }
   ],
   "source": [
    "display(response)"
   ]
  },
  {
   "cell_type": "code",
   "execution_count": 64,
   "id": "896efca3",
   "metadata": {},
   "outputs": [
    {
     "name": "stdout",
     "output_type": "stream",
     "text": [
      "['i-72865w8568w5689t69', 'i-7265935693569357', 'string', 'string']\n"
     ]
    }
   ],
   "source": [
    "instance_list = []\n",
    "for dict in response:\n",
    "    if (len(dict['InstanceInformationList']) > 0): \n",
    "        instance_list.append(dict['InstanceInformationList'][0]['InstanceId'])\n",
    "        \n",
    "print(instance_list)"
   ]
  },
  {
   "cell_type": "code",
   "execution_count": 65,
   "id": "877463e7",
   "metadata": {},
   "outputs": [],
   "source": [
    "instance_list = []\n",
    "for dict in response:\n",
    "    if (len(dict['InstanceInformationList']) > 0): \n",
    "        for dict in dict['InstanceInformationList']:\n",
    "            instance_list.append(dict[\"InstanceId\"])"
   ]
  },
  {
   "cell_type": "code",
   "execution_count": 66,
   "id": "7001ed01",
   "metadata": {},
   "outputs": [
    {
     "name": "stdout",
     "output_type": "stream",
     "text": [
      "['i-72865w8568w5689t69', 'i-72865w8568w5689t69', 'i-7265935693569357', 'string', 'string']\n"
     ]
    }
   ],
   "source": [
    "print(instance_list)"
   ]
  },
  {
   "cell_type": "code",
   "execution_count": 67,
   "id": "4e69bd9b",
   "metadata": {},
   "outputs": [
    {
     "name": "stdout",
     "output_type": "stream",
     "text": [
      "['i-72865w8568w5689t69', 'i-72865w8568w5689t69', 'i-7265935693569357', 'string', 'string']\n"
     ]
    }
   ],
   "source": [
    "print(instance_list[:])"
   ]
  },
  {
   "cell_type": "code",
   "execution_count": null,
   "id": "9633b405",
   "metadata": {},
   "outputs": [],
   "source": []
  }
 ],
 "metadata": {
  "kernelspec": {
   "display_name": "Python 3 (ipykernel)",
   "language": "python",
   "name": "python3"
  },
  "language_info": {
   "codemirror_mode": {
    "name": "ipython",
    "version": 3
   },
   "file_extension": ".py",
   "mimetype": "text/x-python",
   "name": "python",
   "nbconvert_exporter": "python",
   "pygments_lexer": "ipython3",
   "version": "3.9.13"
  }
 },
 "nbformat": 4,
 "nbformat_minor": 5
}
